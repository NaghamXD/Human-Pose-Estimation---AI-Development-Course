{
 "cells": [
  {
   "cell_type": "code",
   "execution_count": null,
   "metadata": {},
   "outputs": [],
   "source": [
    "import ultralytics\n",
    "print(ultralytics.__version__)"
   ]
  },
  {
   "cell_type": "code",
   "execution_count": null,
   "metadata": {},
   "outputs": [],
   "source": [
    "import torch\n",
    "from pathlib import Path\n",
    "from PIL import Image\n",
    "import matplotlib.pyplot as plt\n",
    "\n",
    "# Define paths\n",
    "model_path = r\"yolov5\\runs\\train\\exp8\\weights\\best.pt\"\n",
    "image_folder = r\"dataset\\images\\test\"\n",
    "output_folder = r\"dataset\\labels\\test\"\n",
    "\n",
    "# Load the model\n",
    "model = torch.hub.load('ultralytics/yolov5', 'custom', path=model_path)\n",
    "\n",
    "# Create the output folder if it doesn't exist\n",
    "#Path(output_folder).mkdir(parents=True, exist_ok=True)\n",
    "\n",
    "# Iterate over all images in the folder\n",
    "for image_path in Path(image_folder).glob('*.*'):  # Matching all image formats\n",
    "    # Perform inference\n",
    "    results = model(str(image_path))\n",
    "\n",
    "    # Save the results\n",
    "    results.save(Path(output_folder) / image_path.name)\n",
    "\n",
    "print('Inference completed.')\n"
   ]
  }
 ],
 "metadata": {
  "kernelspec": {
   "display_name": "Python 3",
   "language": "python",
   "name": "python3"
  },
  "language_info": {
   "codemirror_mode": {
    "name": "ipython",
    "version": 3
   },
   "file_extension": ".py",
   "mimetype": "text/x-python",
   "name": "python",
   "nbconvert_exporter": "python",
   "pygments_lexer": "ipython3",
   "version": "3.11.9"
  }
 },
 "nbformat": 4,
 "nbformat_minor": 2
}
